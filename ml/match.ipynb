{
 "cells": [
  {
   "cell_type": "markdown",
   "metadata": {},
   "source": [
    "# Celebrity Data"
   ]
  },
  {
   "cell_type": "code",
   "execution_count": 6,
   "metadata": {},
   "outputs": [],
   "source": [
    "#Importing dependencies\n",
    "import math\n",
    "from sklearn import neighbors\n",
    "import os\n",
    "import os.path\n",
    "import pickle\n",
    "from PIL import Image, ImageDraw\n",
    "import face_recognition\n",
    "from face_recognition.face_recognition_cli import image_files_in_folder\n",
    "from sklearn.model_selection import train_test_split"
   ]
  },
  {
   "cell_type": "code",
   "execution_count": 7,
   "metadata": {},
   "outputs": [],
   "source": [
    "#Adding allowed extention for photos\n",
    "ALLOWED_EXTENSIONS = {'png', 'jpg', 'jpeg'}"
   ]
  },
  {
   "cell_type": "code",
   "execution_count": 13,
   "metadata": {},
   "outputs": [],
   "source": [
    "#Setting prediction model\n",
    "\n",
    "def predict(X_img_path, knn_clf=None, model_path=None, distance_threshold=0.6):\n",
    "    if not os.path.isfile(X_img_path) or os.path.splitext(X_img_path)[1][1:] not in ALLOWED_EXTENSIONS:\n",
    "        raise Exception(\"Invalid image path: {}\".format(X_img_path))\n",
    "\n",
    "    if knn_clf is None and model_path is None:\n",
    "        raise Exception(\"Must supply knn classifier either thourgh knn_clf or model_path\")\n",
    "\n",
    "    # Load a trained KNN model (if one was passed in)\n",
    "    if knn_clf is None:\n",
    "        with open(model_path, 'rb') as f:\n",
    "            knn_clf = pickle.load(f)\n",
    "\n",
    "    # Load image file and find face locations\n",
    "    X_img = face_recognition.load_image_file(X_img_path)\n",
    "    X_face_locations = face_recognition.face_locations(X_img)\n",
    "\n",
    "    # If no faces are found in the image, return an empty result.\n",
    "    if len(X_face_locations) == 0:\n",
    "        return []\n",
    "\n",
    "    # Find encodings for faces in the test iamge\n",
    "    faces_encodings = face_recognition.face_encodings(X_img, known_face_locations=X_face_locations)\n",
    "\n",
    "    # Use the KNN model to find the best matches for the test face\n",
    "    closest_distances = knn_clf.kneighbors(faces_encodings, n_neighbors=1)    \n",
    "    are_matches = []\n",
    "    for i in range(len(X_face_locations)):\n",
    "        print(closest_distances[0][i][0])\n",
    "        are_matches.append(closest_distances[0][i][0] <= distance_threshold)\n",
    "        \n",
    "    # Predict classes and remove classifications that aren't within the threshold\n",
    "    return [(pred, loc) if rec else (\"unknown\", loc) for pred, loc, rec in zip(knn_clf.predict(faces_encodings), X_face_locations, are_matches)]\n"
   ]
  },
  {
   "cell_type": "code",
   "execution_count": 16,
   "metadata": {},
   "outputs": [],
   "source": [
    "#Showing the face recognition results on the image\n",
    "def show_prediction_labels_on_image(img_path, predictions):\n",
    "  \n",
    "    pil_image = Image.open(img_path).convert(\"RGB\")\n",
    "    draw = ImageDraw.Draw(pil_image)\n",
    "\n",
    "    for name, (top, right, bottom, left) in predictions:\n",
    "        # Draw a box around the face using the Pillow module\n",
    "        draw.rectangle(((left, top), (right, bottom)), outline=(0, 0, 255))\n",
    "\n",
    "        # There's a bug in Pillow where it blows up with non-UTF-8 text\n",
    "        # when using the default bitmap font\n",
    "        name = name.encode(\"UTF-8\")\n",
    "\n",
    "        # Draw a label with a name below the face\n",
    "        text_width, text_height = draw.textsize(name)\n",
    "        draw.rectangle(((left, bottom - text_height - 10), (right, bottom)), fill=(0, 0, 255), outline=(0, 0, 255))\n",
    "        draw.text((left + 6, bottom - text_height - 5), name, fill=(255, 255, 255, 255))\n",
    "\n",
    "    # Remove the drawing library from memory as per the Pillow docs\n",
    "    del draw\n",
    "\n",
    "    # Display the resulting image\n",
    "    pil_image.show()"
   ]
  },
  {
   "cell_type": "code",
   "execution_count": 17,
   "metadata": {},
   "outputs": [
    {
     "name": "stdout",
     "output_type": "stream",
     "text": [
      "Looking for faces in 7cwSSZJA.jpg\n",
      "0.4980958050192508\n",
      "- Found 1878 at (142, 43)\n",
      "Looking for faces in 1366_v9_bb.jpg\n",
      "0.5308956890980153\n",
      "- Found 3383 at (280, 428)\n",
      "Looking for faces in tmp6boni0ss copy.png\n",
      "0.47844539674331427\n",
      "- Found 8240 at (741, 1380)\n",
      "Looking for faces in aaron-paul-435-63.jpg\n",
      "0.29975917611213315\n",
      "- Found 18 at (153, 110)\n",
      "Looking for faces in image4.jpg\n",
      "0.4866149909385523\n",
      "- Found 4136 at (379, 171)\n",
      "Looking for faces in IMG_20190728_170400.jpg\n",
      "Looking for faces in image1.jpg\n",
      "0.5294938784818516\n",
      "- Found 555 at (161, 162)\n",
      "Looking for faces in IMG_20190728_170410.jpg\n",
      "Looking for faces in tmp6i_64do3 copy.png\n",
      "0.5079050665259941\n",
      "- Found 6509 at (1124, 1125)\n"
     ]
    }
   ],
   "source": [
    "if __name__ == \"__main__\":\n",
    "    # Using the trained classifier, make predictions for unknown images\n",
    "    for image_file in os.listdir(\"./faces/test\"):\n",
    "        full_file_path = os.path.join(\"./faces/test\", image_file)\n",
    "\n",
    "        print(\"Looking for faces in {}\".format(image_file))\n",
    "\n",
    "        # Find all people in the image using a trained classifier model\n",
    "        # Note: You can pass in either a classifier file name or a classifier model instance\n",
    "        predictions = predict(full_file_path, model_path=\"trained_knn_model.clf\")\n",
    "\n",
    "        # Print results on the console\n",
    "        for name, (top, right, bottom, left) in predictions:\n",
    "            print(\"- Found {} at ({}, {})\".format(name, left, top))\n",
    "\n",
    "        # Display results overlaid on an image\n",
    "        show_prediction_labels_on_image(os.path.join(\"./faces/test\", image_file), predictions)\n"
   ]
  },
  {
   "cell_type": "code",
   "execution_count": null,
   "metadata": {},
   "outputs": [],
   "source": []
  }
 ],
 "metadata": {
  "kernelspec": {
   "display_name": "Python 3",
   "language": "python",
   "name": "python3"
  },
  "language_info": {
   "codemirror_mode": {
    "name": "ipython",
    "version": 3
   },
   "file_extension": ".py",
   "mimetype": "text/x-python",
   "name": "python",
   "nbconvert_exporter": "python",
   "pygments_lexer": "ipython3",
   "version": "3.7.1"
  }
 },
 "nbformat": 4,
 "nbformat_minor": 2
}
