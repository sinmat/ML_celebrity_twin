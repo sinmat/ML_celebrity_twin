{
 "cells": [
  {
   "cell_type": "code",
   "execution_count": 16,
   "metadata": {},
   "outputs": [],
   "source": [
    "import math\n",
    "from sklearn.neighbors import KNeighborsClassifier\n",
    "from sklearn.model_selection import train_test_split\n",
    "import os\n",
    "import os.path\n",
    "import pickle\n",
    "from PIL import Image, ImageDraw\n",
    "import face_recognition\n",
    "from face_recognition.face_recognition_cli import image_files_in_folder\n",
    "import time\n",
    "import numpy as np \n",
    "from sklearn.preprocessing import StandardScaler\n",
    "import matplotlib.pyplot as plt\n",
    "\n",
    "#Adding allowed extention for photos\n",
    "ALLOWED_EXTENSIONS = {'txt'}"
   ]
  },
  {
   "cell_type": "code",
   "execution_count": 31,
   "metadata": {},
   "outputs": [
    {
     "name": "stdout",
     "output_type": "stream",
     "text": [
      "10001\n"
     ]
    }
   ],
   "source": [
    "X = []\n",
    "y = []\n",
    "\n",
    "train_dir = \"./faces/train\"\n",
    "all_encodings_paths = []\n",
    "i = 0\n",
    "for class_dir in os.listdir(train_dir):\n",
    "    if not os.path.isdir(os.path.join(train_dir, class_dir)):\n",
    "        continue\n",
    "\n",
    "    for encoding_path in image_files_in_folder(os.path.join(train_dir, class_dir)):\n",
    "        if os.path.splitext(encoding_path)[1][1:] not in ALLOWED_EXTENSIONS:\n",
    "            continue\n",
    "\n",
    "        all_encodings_paths.append(encoding_path)\n",
    "        file = open(encoding_path, \"r\") \n",
    "        d = encoding_path.split(\"/\")[-2]\n",
    "        dx = np.array(file.read().split(\",\")).astype(np.float64)\n",
    "        X.append(dx)\n",
    "        y.append(d)\n",
    "        file.close()\n",
    "        i += 1\n",
    "    \n",
    "    if i > 10000:\n",
    "        break\n",
    "\n",
    "print(len(all_encodings_paths))"
   ]
  },
  {
   "cell_type": "code",
   "execution_count": 32,
   "metadata": {},
   "outputs": [],
   "source": [
    "X_train, X_test, y_train, y_test = train_test_split(X, y, random_state=42)"
   ]
  },
  {
   "cell_type": "code",
   "execution_count": 33,
   "metadata": {},
   "outputs": [
    {
     "name": "stdout",
     "output_type": "stream",
     "text": [
      "k: 1, Train/Test Score: 1.000/0.958\n",
      "k: 3, Train/Test Score: 1.000/0.959\n",
      "k: 5, Train/Test Score: 1.000/0.957\n",
      "k: 7, Train/Test Score: 1.000/0.953\n",
      "k: 9, Train/Test Score: 1.000/0.947\n",
      "k: 11, Train/Test Score: 1.000/0.944\n",
      "k: 13, Train/Test Score: 1.000/0.942\n",
      "k: 15, Train/Test Score: 1.000/0.937\n",
      "k: 17, Train/Test Score: 1.000/0.933\n",
      "k: 19, Train/Test Score: 1.000/0.930\n"
     ]
    },
    {
     "data": {
      "image/png": "[encoded data removed]",
      "text/plain": [
       "<Figure size 432x288 with 1 Axes>"
      ]
     },
     "metadata": {
      "needs_background": "light"
     },
     "output_type": "display_data"
    }
   ],
   "source": [
    "# Loop through different k values to see which has the highest accuracy\n",
    "# Note: We only use odd numbers because we don't want any ties\n",
    "train_scores = []\n",
    "test_scores = []\n",
    "for k in range(1, 20, 2):\n",
    "    knn = KNeighborsClassifier(n_neighbors=k, algorithm='ball_tree', weights='distance')\n",
    "    knn.fit(X_train, y_train)\n",
    "    train_score = knn.score(X_train, y_train)\n",
    "    test_score = knn.score(X_test, y_test)\n",
    "    train_scores.append(train_score)\n",
    "    test_scores.append(test_score)\n",
    "    print(f\"k: {k}, Train/Test Score: {train_score:.3f}/{test_score:.3f}\")\n",
    "\n",
    "\n",
    "    \n",
    "plt.plot(range(1, 20, 2), train_scores, marker='o')\n",
    "plt.plot(range(1, 20, 2), test_scores, marker=\"x\")\n",
    "plt.xlabel(\"k neighbors\")\n",
    "plt.ylabel(\"Testing accuracy Score\")\n",
    "plt.show()"
   ]
  },
  {
   "cell_type": "code",
   "execution_count": null,
   "metadata": {},
   "outputs": [],
   "source": []
  },
  {
   "cell_type": "code",
   "execution_count": null,
   "metadata": {},
   "outputs": [],
   "source": []
  },
  {
   "cell_type": "code",
   "execution_count": null,
   "metadata": {},
   "outputs": [],
   "source": []
  },
  {
   "cell_type": "code",
   "execution_count": null,
   "metadata": {},
   "outputs": [],
   "source": []
  }
 ],
 "metadata": {
  "kernelspec": {
   "display_name": "Python 3",
   "language": "python",
   "name": "python3"
  },
  "language_info": {
   "codemirror_mode": {
    "name": "ipython",
    "version": 3
   },
   "file_extension": ".py",
   "mimetype": "text/x-python",
   "name": "python",
   "nbconvert_exporter": "python",
   "pygments_lexer": "ipython3",
   "version": "3.7.1"
  }
 },
 "nbformat": 4,
 "nbformat_minor": 2
}
