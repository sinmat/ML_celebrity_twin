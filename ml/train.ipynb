{
 "cells": [
  {
   "cell_type": "markdown",
   "metadata": {},
   "source": [
    "# Find your Celebrity Twin!\n",
    "\n",
    "Artificial intelligence and its subcategory machine learning, are one of the hottest topics in technology this moment. It is the field that sparks fear, admiration and fascination in us at the same time, so I chose the topic based on the theme I find the most shocking or concerning – face recognition. \n",
    "\n",
    "We all know big companies are gathering data about us and they track our every move, but do we really realize what that means? Like they say: ‘The picture tells more then 1000 words!’, the results of this project shocked me, because gathering data got entirely different dimension for me. Only one image of our face is enough that we can get identified from images, group images or even videos. \n",
    "\n",
    "The idea started with finding dataset with over 200.000 images of famous people with 10,177 unique identities, but names of identities are not given. Dataset also includes 40 binary attribute annotations per image and 5 landmark locations.\n",
    "\n",
    "Unsupervised machine learning – clustering.\n",
    "\n",
    "Attribute model\n",
    "\n",
    "The number of features must be fixed in advance. However it can be very high dimensional (e.g. millions of features) with most of them being \"zeros\" for a given sample. This is a case where scipy.sparse matrices can be useful, in that they are much more memory-efficient than NumPy arrays.\n",
    "As we recall from the previous section (or Jupyter notebook), we represent samples (data points or instances) as rows in the data array, and we store the corresponding features, the \"dimensions,\" as columns.\n"
   ]
  },
  {
   "cell_type": "code",
   "execution_count": 32,
   "metadata": {},
   "outputs": [],
   "source": [
    "#Importing dependencies\n",
    "\n",
    "import math\n",
    "from sklearn.neighbors import KNeighborsClassifier\n",
    "from sklearn.model_selection import train_test_split\n",
    "import os\n",
    "from sklearn import svm\n",
    "import os.path\n",
    "import pickle\n",
    "from PIL import Image, ImageDraw\n",
    "import face_recognition\n",
    "from face_recognition.face_recognition_cli import image_files_in_folder\n",
    "import time\n",
    "import numpy as np \n",
    "from sklearn.preprocessing import StandardScaler\n",
    "import matplotlib.pyplot as plt\n",
    "\n",
    "#Adding allowed extention for photos\n",
    "ALLOWED_EXTENSIONS_IMAGES = {'png', 'jpg', 'jpeg'}\n",
    "#Adding allowed extention for encodings\n",
    "ALLOWED_EXTENSIONS_ENCODING = {'txt'}"
   ]
  },
  {
   "cell_type": "markdown",
   "metadata": {},
   "source": [
    "## Setting Train Model"
   ]
  },
  {
   "cell_type": "code",
   "execution_count": 33,
   "metadata": {},
   "outputs": [
    {
     "name": "stdout",
     "output_type": "stream",
     "text": [
      "10020\n"
     ]
    }
   ],
   "source": [
    "# Encoding 128 dots on faces found in photos\n",
    "\n",
    "X = []\n",
    "y = []\n",
    "\n",
    "\n",
    "train_data = \"./faces/train\"\n",
    "encode_data = \"./faces/encode\"\n",
    "\n",
    "all_encodings_paths = []\n",
    "i = 0\n",
    "\n",
    "for id_folder in os.listdir(train_data):\n",
    "    #if it's not a sub folder with id number, skip and continue\n",
    "    if not os.path.isdir(os.path.join(train_data, id_folder)):\n",
    "        continue\n",
    "    \n",
    "    #if encoding path is not ending with '.txt', continue\n",
    "    for encoding_path in image_files_in_folder(os.path.join(encode_data, id_folder)):\n",
    "        if os.path.splitext(encoding_path)[1][1:] not in ALLOWED_EXTENSIONS_ENCODING:\n",
    "            continue\n",
    "        \n",
    "        \n",
    "        all_encodings_paths.append(encoding_path)\n",
    "        #open id_folder and read files\n",
    "        file = open(encoding_path, \"r\") \n",
    "        #getting id_folder number\n",
    "        d = encoding_path.split(\"/\")[-2]\n",
    "        #get encodings for each file and put it in arrays\n",
    "        dx = np.array(file.read().split(\",\")).astype(np.float64)\n",
    "        # 128 face encodings\n",
    "        X.append(dx)\n",
    "        # file names\n",
    "        y.append(d)\n",
    "        file.close()\n",
    "        i += 1\n",
    "    \n",
    "    if i > 10000:\n",
    "        break\n",
    "\n",
    "print(len(all_encodings_paths))"
   ]
  },
  {
   "cell_type": "code",
   "execution_count": 34,
   "metadata": {},
   "outputs": [],
   "source": [
    "#splitting data with sklearn train_test_split\n",
    "X_train, X_test, y_train, y_test = train_test_split(X, y, test_size=0.4, random_state=0 )"
   ]
  },
  {
   "cell_type": "code",
   "execution_count": 35,
   "metadata": {},
   "outputs": [],
   "source": [
    "#can I put here just X train and X test, because y is just the name of the file?"
   ]
  },
  {
   "cell_type": "code",
   "execution_count": 36,
   "metadata": {},
   "outputs": [
    {
     "name": "stdout",
     "output_type": "stream",
     "text": [
      "k: 1, Train/Test Score: 1.000/0.949\n",
      "k: 3, Train/Test Score: 1.000/0.952\n",
      "k: 5, Train/Test Score: 1.000/0.949\n",
      "k: 7, Train/Test Score: 1.000/0.947\n",
      "k: 9, Train/Test Score: 1.000/0.943\n",
      "k: 11, Train/Test Score: 1.000/0.939\n",
      "k: 13, Train/Test Score: 1.000/0.936\n",
      "k: 15, Train/Test Score: 1.000/0.933\n",
      "k: 17, Train/Test Score: 1.000/0.927\n",
      "k: 19, Train/Test Score: 1.000/0.922\n"
     ]
    },
    {
     "data": {
      "image/png": "[encoded data removed]",
      "text/plain": [
       "<Figure size 432x288 with 1 Axes>"
      ]
     },
     "metadata": {
      "needs_background": "light"
     },
     "output_type": "display_data"
    }
   ],
   "source": [
    "# Loop through different k values to see which has the highest accuracy\n",
    "# Note: We only use odd numbers because we don't want any ties\n",
    "train_scores = []\n",
    "test_scores = []\n",
    "\n",
    "for k in range(1, 20, 2):\n",
    "    knn = KNeighborsClassifier(n_neighbors=k, algorithm='ball_tree', weights='distance')\n",
    "    knn.fit(X_train, y_train)\n",
    "    train_score = knn.score(X_train, y_train)\n",
    "    test_score = knn.score(X_test, y_test)\n",
    "    train_scores.append(train_score)\n",
    "    test_scores.append(test_score)\n",
    "    print(f\"k: {k}, Train/Test Score: {train_score:.3f}/{test_score:.3f}\")\n",
    "    \n",
    "plt.plot(range(1, 20, 2), train_scores, marker='o')\n",
    "plt.plot(range(1, 20, 2), test_scores, marker=\"x\")\n",
    "plt.xlabel(\"k neighbors\")\n",
    "plt.ylabel(\"Testing accuracy Score\")\n",
    "plt.show()"
   ]
  },
  {
   "cell_type": "code",
   "execution_count": 37,
   "metadata": {},
   "outputs": [
    {
     "data": {
      "text/plain": [
       "0.9686626746506986"
      ]
     },
     "execution_count": 37,
     "metadata": {},
     "output_type": "execute_result"
    }
   ],
   "source": [
    "#Precission\n",
    "trained_model = knn.fit(X_train, y_train)\n",
    "trained_model.score(X, y)"
   ]
  },
  {
   "cell_type": "code",
   "execution_count": 40,
   "metadata": {},
   "outputs": [],
   "source": [
    "#Setting train model \n",
    "#Trains a k-nearest neighbors classifier for face recognition\n",
    "def train(train_data=\"./faces/encode\", model_save_path=None, n_neighbors=None, knn_algo='ball_tree', verbose=True):\n",
    "    X = []\n",
    "    y = []\n",
    "\n",
    "    all_encodings_paths = []\n",
    "    for id_folder in os.listdir(train_data):\n",
    "        if not os.path.isdir(os.path.join(train_data, id_folder)):\n",
    "            continue\n",
    "\n",
    "        for encoding_path in image_files_in_folder(os.path.join(encode_data, id_folder)):\n",
    "            if os.path.splitext(encoding_path)[1][1:] not in ALLOWED_EXTENSIONS_ENCODING:\n",
    "                continue\n",
    "\n",
    "            all_encodings_paths.append(encoding_path)\n",
    "            file = open(encoding_path, \"r\") \n",
    "            d = encoding_path.split(\"/\")[-2]\n",
    "            dx = np.array(file.read().split(\",\")).astype(np.float64)\n",
    "            X.append(dx)\n",
    "            y.append(d)\n",
    "            file.close()\n",
    "\n",
    "    print(len(all_encodings_paths))\n",
    "    \n",
    "    #Setting train model - trains a k-nearest neighbors classifier for face recognition\n",
    "\n",
    "    # Create and train the KNN classifier\n",
    "    knn_clf = KNeighborsClassifier(n_neighbors=n_neighbors, algorithm=knn_algo, weights='distance')\n",
    "    knn_clf.fit(X, y)\n",
    "\n",
    "    # Save the trained KNN classifier\n",
    "    if model_save_path is not None:\n",
    "        with open(model_save_path, 'wb') as f:\n",
    "            pickle.dump(knn_clf, f)\n",
    "\n",
    "    return knn_clf"
   ]
  },
  {
   "cell_type": "code",
   "execution_count": 41,
   "metadata": {},
   "outputs": [
    {
     "name": "stdout",
     "output_type": "stream",
     "text": [
      "Training KNN classifier...\n",
      "196694\n",
      "Training complete!\n"
     ]
    }
   ],
   "source": [
    "# Training data\n",
    "if __name__ == \"__main__\":\n",
    "    print(\"Training KNN classifier...\")\n",
    "    classifier = train(\"./faces/encode\", model_save_path=\"trained_knn_model.clf\", n_neighbors=3)\n",
    "    print(\"Training complete!\")"
   ]
  },
  {
   "cell_type": "markdown",
   "metadata": {},
   "source": [
    "## Prediction Model - Celebrity Match"
   ]
  },
  {
   "cell_type": "code",
   "execution_count": 43,
   "metadata": {},
   "outputs": [],
   "source": [
    "#Setting prediction model\n",
    "\n",
    "def predict(X_img_path, knn_clf=None, model_path=None, distance_threshold=0.6):\n",
    "\n",
    "    if not os.path.isfile(X_img_path) or os.path.splitext(X_img_path)[1][1:] not in ALLOWED_EXTENSIONS_IMAGES:\n",
    "        raise Exception(\"Invalid image path: {}\".format(X_img_path))\n",
    "    \n",
    "    if knn_clf is None and model_path is None:\n",
    "        raise Exception(\"Must supply knn classifier either thourgh knn_clf or model_path\")\n",
    "\n",
    "    # Load a trained KNN model (if one was passed in)\n",
    "    if knn_clf is None:\n",
    "        with open(model_path, 'rb') as f:\n",
    "            knn_clf = pickle.load(f)\n",
    "\n",
    "    # Load image file and find face locations in the image\n",
    "    X_img = face_recognition.load_image_file(X_img_path)\n",
    "    X_face_locations = face_recognition.face_locations(X_img)\n",
    "\n",
    "    # If no faces are found in the image, return an empty result.\n",
    "    if len(X_face_locations) == 0:\n",
    "        return []\n",
    "\n",
    "    # Find encodings for faces\n",
    "    faces_encodings = face_recognition.face_encodings(X_img, known_face_locations=X_face_locations)\n",
    "\n",
    "    # Use the KNN model to find the best matches for the test face\n",
    "    closest_distances = knn_clf.kneighbors(faces_encodings, n_neighbors=3)    \n",
    "    are_matches = []\n",
    "    for i in range(len(X_face_locations)):\n",
    "        print(closest_distances[0][i][0])\n",
    "        are_matches.append(closest_distances[0][i][0] <= distance_threshold)\n",
    "        \n",
    "    # Predict classes and remove classifications that aren't within the threshold\n",
    "    return [(pred, loc) if rec else (\"unknown\", loc) for pred, loc, rec in zip(knn_clf.predict(faces_encodings), X_face_locations, are_matches)]\n"
   ]
  },
  {
   "cell_type": "code",
   "execution_count": 44,
   "metadata": {},
   "outputs": [],
   "source": [
    "#Showing the face recognition results on the image\n",
    "def show_prediction_labels_on_image(img_path, predictions):\n",
    "  \n",
    "    pil_image = Image.open(img_path).convert(\"RGB\")\n",
    "    draw = ImageDraw.Draw(pil_image)\n",
    "\n",
    "    for name, (top, right, bottom, left) in predictions:\n",
    "        # Draw a box around the face using the Pillow module\n",
    "        draw.rectangle(((left, top), (right, bottom)), outline=(0, 0, 255))\n",
    "\n",
    "        # There's a bug in Pillow where it blows up with non-UTF-8 text\n",
    "        # when using the default bitmap font\n",
    "        name = name.encode(\"UTF-8\")\n",
    "\n",
    "        # Draw a label with a name below the face\n",
    "        text_width, text_height = draw.textsize(name)\n",
    "        draw.rectangle(((left, bottom - text_height - 10), (right, bottom)), fill=(0, 0, 255), outline=(0, 0, 255))\n",
    "        draw.text((left + 6, bottom - text_height - 5), name, fill=(255, 255, 255, 255))\n",
    "\n",
    "    # Remove the drawing library from memory as per the Pillow docs\n",
    "    del draw\n",
    "\n",
    "    # Display the resulting image\n",
    "    pil_image.show()"
   ]
  },
  {
   "cell_type": "code",
   "execution_count": 47,
   "metadata": {},
   "outputs": [
    {
     "name": "stdout",
     "output_type": "stream",
     "text": [
      "Looking for faces in 7cwSSZJA.jpg\n",
      "0.4980958050192508\n",
      "- Found 1878 at (7cwSSZJA.jpg, 43)\n",
      "Looking for faces in 1366_v9_bb.jpg\n",
      "0.5308956890980153\n",
      "- Found 4899 at (1366_v9_bb.jpg, 428)\n",
      "Looking for faces in tmp6boni0ss copy.png\n",
      "0.47844539674331427\n",
      "- Found 8240 at (tmp6boni0ss copy.png, 1380)\n",
      "Looking for faces in aaron-paul-435-63.jpg\n",
      "0.29975917611213315\n",
      "- Found 18 at (aaron-paul-435-63.jpg, 110)\n",
      "Looking for faces in tmp6i_64do3 copy.png\n",
      "0.5079050665259941\n",
      "- Found 6509 at (tmp6i_64do3 copy.png, 1125)\n"
     ]
    }
   ],
   "source": [
    "if __name__ == \"__main__\":\n",
    "    # Using the trained classifier, make predictions for unknown images\n",
    "    for image_file in os.listdir(\"./faces/test\"):\n",
    "        full_file_path = os.path.join(\"./faces/test\", image_file)\n",
    "\n",
    "        print(\"Looking for faces in {}\".format(image_file))\n",
    "\n",
    "        # Find all people in the image using a trained classifier model\n",
    "        # Note: You can pass in either a classifier file name or a classifier model instance\n",
    "        predictions = predict(full_file_path, model_path=\"trained_knn_model.clf\")\n",
    "\n",
    "        # Print results on the console\n",
    "        for name, (top, right, bottom, left) in predictions:\n",
    "            print(\"- Found {} at ({}, {})\".format(name, left, top))\n",
    "\n",
    "        # Display results overlaid on an image(rm ./faces/test/DS...)\n",
    "        show_prediction_labels_on_image(os.path.join(\"./faces/test\", image_file), predictions)\n"
   ]
  },
  {
   "cell_type": "code",
   "execution_count": null,
   "metadata": {},
   "outputs": [],
   "source": []
  }
 ],
 "metadata": {
  "kernelspec": {
   "display_name": "Python 3",
   "language": "python",
   "name": "python3"
  },
  "language_info": {
   "codemirror_mode": {
    "name": "ipython",
    "version": 3
   },
   "file_extension": ".py",
   "mimetype": "text/x-python",
   "name": "python",
   "nbconvert_exporter": "python",
   "pygments_lexer": "ipython3",
   "version": "3.7.1"
  }
 },
 "nbformat": 4,
 "nbformat_minor": 2
}
