{
 "cells": [
  {
   "cell_type": "code",
   "execution_count": 3,
   "metadata": {},
   "outputs": [],
   "source": [
    "import math\n",
    "from sklearn.neighbors import KNeighborsClassifier\n",
    "from sklearn.model_selection import train_test_split\n",
    "import os\n",
    "from sklearn import svm\n",
    "import os.path\n",
    "import pickle\n",
    "from PIL import Image, ImageDraw\n",
    "import face_recognition\n",
    "from face_recognition.face_recognition_cli import image_files_in_folder\n",
    "import time\n",
    "import numpy as np \n",
    "from sklearn.preprocessing import StandardScaler\n",
    "import matplotlib.pyplot as plt\n",
    "\n",
    "#Adding allowed extention for photos\n",
    "ALLOWED_EXTENSIONS = {'txt'}"
   ]
  },
  {
   "cell_type": "markdown",
   "metadata": {},
   "source": [
    "## Test model"
   ]
  },
  {
   "cell_type": "code",
   "execution_count": 4,
   "metadata": {},
   "outputs": [
    {
     "name": "stdout",
     "output_type": "stream",
     "text": [
      "3002\n"
     ]
    }
   ],
   "source": [
    "X = []\n",
    "y = []\n",
    "\n",
    "train_dir = \"./faces/train\"\n",
    "encode_dir = \"./faces/encode\"\n",
    "all_encodings_paths = []\n",
    "i = 0\n",
    "for class_dir in os.listdir(train_dir):\n",
    "    if not os.path.isdir(os.path.join(train_dir, class_dir)):\n",
    "        continue\n",
    "\n",
    "    for encoding_path in image_files_in_folder(os.path.join(encode_dir, class_dir)):\n",
    "        if os.path.splitext(encoding_path)[1][1:] not in ALLOWED_EXTENSIONS:\n",
    "            continue\n",
    "\n",
    "        all_encodings_paths.append(encoding_path)\n",
    "        file = open(encoding_path, \"r\") \n",
    "        d = encoding_path.split(\"/\")[-2]\n",
    "        dx = np.array(file.read().split(\",\")).astype(np.float64)\n",
    "        X.append(dx)\n",
    "        y.append(d)\n",
    "        file.close()\n",
    "        i += 1\n",
    "    \n",
    "    if i > 3000:\n",
    "        break\n",
    "\n",
    "print(len(all_encodings_paths))"
   ]
  },
  {
   "cell_type": "code",
   "execution_count": 5,
   "metadata": {},
   "outputs": [],
   "source": [
    "X_train, X_test, y_train, y_test = train_test_split(X, y, test_size=0.4, random_state=0 )"
   ]
  },
  {
   "cell_type": "code",
   "execution_count": null,
   "metadata": {},
   "outputs": [],
   "source": []
  },
  {
   "cell_type": "code",
   "execution_count": 6,
   "metadata": {},
   "outputs": [
    {
     "name": "stdout",
     "output_type": "stream",
     "text": [
      "k: 1, Train/Test Score: 1.000/0.964\n",
      "k: 3, Train/Test Score: 1.000/0.965\n",
      "k: 5, Train/Test Score: 1.000/0.961\n",
      "k: 7, Train/Test Score: 1.000/0.956\n",
      "k: 9, Train/Test Score: 1.000/0.950\n",
      "k: 11, Train/Test Score: 1.000/0.941\n",
      "k: 13, Train/Test Score: 1.000/0.933\n",
      "k: 15, Train/Test Score: 1.000/0.923\n",
      "k: 17, Train/Test Score: 1.000/0.921\n",
      "k: 19, Train/Test Score: 1.000/0.914\n"
     ]
    },
    {
     "data": {
      "image/png": "[encoded data removed]",
      "text/plain": [
       "<Figure size 432x288 with 1 Axes>"
      ]
     },
     "metadata": {
      "needs_background": "light"
     },
     "output_type": "display_data"
    }
   ],
   "source": [
    "# Loop through different k values to see which has the highest accuracy\n",
    "# Note: We only use odd numbers because we don't want any ties\n",
    "train_scores = []\n",
    "test_scores = []\n",
    "for k in range(1, 20, 2):\n",
    "    clf = KNeighborsClassifier(n_neighbors=k, algorithm='ball_tree', weights='distance')\n",
    "    clf.fit(X_train, y_train)\n",
    "    train_score = knn.score(X_train, y_train)\n",
    "    test_score = knn.score(X_test, y_test)\n",
    "    train_scores.append(train_score)\n",
    "    test_scores.append(test_score)\n",
    "    print(f\"k: {k}, Train/Test Score: {train_score:.3f}/{test_score:.3f}\")\n",
    "\n",
    "\n",
    "    \n",
    "plt.plot(range(1, 20, 2), train_scores, marker='o')\n",
    "plt.plot(range(1, 20, 2), test_scores, marker=\"x\")\n",
    "plt.xlabel(\"k neighbors\")\n",
    "plt.ylabel(\"Testing accuracy Score\")\n",
    "plt.show()"
   ]
  },
  {
   "cell_type": "markdown",
   "metadata": {},
   "source": [
    "## Real model"
   ]
  },
  {
   "cell_type": "code",
   "execution_count": 8,
   "metadata": {},
   "outputs": [],
   "source": [
    "#Setting train model method\n",
    "#Trains a k-nearest neighbors classifier for face recognition\n",
    "def train(train_dir=\"./faces/encode\", model_save_path=None, n_neighbors=None, knn_algo='ball_tree', verbose=True):\n",
    "    X = []\n",
    "    y = []\n",
    "\n",
    "    all_encodings_paths = []\n",
    "    for class_dir in os.listdir(train_dir):\n",
    "        if not os.path.isdir(os.path.join(train_dir, class_dir)):\n",
    "            continue\n",
    "\n",
    "        for encoding_path in image_files_in_folder(os.path.join(encode_dir, class_dir)):\n",
    "            if os.path.splitext(encoding_path)[1][1:] not in ALLOWED_EXTENSIONS:\n",
    "                continue\n",
    "\n",
    "            all_encodings_paths.append(encoding_path)\n",
    "            file = open(encoding_path, \"r\") \n",
    "            d = encoding_path.split(\"/\")[-2]\n",
    "            dx = np.array(file.read().split(\",\")).astype(np.float64)\n",
    "            X.append(dx)\n",
    "            y.append(d)\n",
    "            file.close()\n",
    "\n",
    "    print(len(all_encodings_paths))\n",
    "\n",
    "    # Create and train the KNN classifier\n",
    "    knn_clf = KNeighborsClassifier(n_neighbors=n_neighbors, algorithm=knn_algo, weights='distance')\n",
    "    knn_clf.fit(X, y)\n",
    "\n",
    "    # Save the trained KNN classifier\n",
    "    if model_save_path is not None:\n",
    "        with open(model_save_path, 'wb') as f:\n",
    "            pickle.dump(knn_clf, f)\n",
    "\n",
    "    return knn_clf"
   ]
  },
  {
   "cell_type": "code",
   "execution_count": 9,
   "metadata": {},
   "outputs": [
    {
     "name": "stdout",
     "output_type": "stream",
     "text": [
      "Training KNN classifier...\n",
      "196694\n",
      "Training complete!\n"
     ]
    }
   ],
   "source": [
    "if __name__ == \"__main__\":\n",
    "    print(\"Training KNN classifier...\")\n",
    "    classifier = train(\"./faces/encode\", model_save_path=\"trained_knn_model.clf\", n_neighbors=5)\n",
    "    print(\"Training complete!\")"
   ]
  },
  {
   "cell_type": "code",
   "execution_count": null,
   "metadata": {},
   "outputs": [],
   "source": []
  }
 ],
 "metadata": {
  "kernelspec": {
   "display_name": "Python 3",
   "language": "python",
   "name": "python3"
  },
  "language_info": {
   "codemirror_mode": {
    "name": "ipython",
    "version": 3
   },
   "file_extension": ".py",
   "mimetype": "text/x-python",
   "name": "python",
   "nbconvert_exporter": "python",
   "pygments_lexer": "ipython3",
   "version": "3.7.1"
  }
 },
 "nbformat": 4,
 "nbformat_minor": 2
}
